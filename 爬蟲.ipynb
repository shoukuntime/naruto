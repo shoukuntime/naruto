{
 "cells": [
  {
   "cell_type": "code",
   "execution_count": 39,
   "id": "ae2603fe",
   "metadata": {},
   "outputs": [],
   "source": [
    "from tools import get_soup\n",
    "import pandas as pd\n",
    "url='http://127.0.0.1:5500/test.html'\n",
    "soup=get_soup(url)\n",
    "datas=[]\n",
    "h3s=soup.find_all('h3')\n",
    "ps=soup.find_all('p')\n",
    "for i in range(len(h3s)):\n",
    "    h3=h3s[i]\n",
    "    p=ps[i]\n",
    "    d=p.text.split('答案：')[0].split(') ')\n",
    "    datas.append([h3.text.split('. ')[1],d[1][:-1],d[2][:-1],d[3][:-1],d[4],p.text.split('答案：')[1][0]])\n",
    "df=pd.DataFrame(datas,columns=['題目','A','B','C','D','答案'])\n",
    "df.to_csv(\"火影忍者問答題庫.csv\",encoding=\"utf-8-sig\")"
   ]
  },
  {
   "cell_type": "code",
   "execution_count": null,
   "id": "8ae69480",
   "metadata": {},
   "outputs": [],
   "source": []
  }
 ],
 "metadata": {
  "kernelspec": {
   "display_name": "Python 3 (ipykernel)",
   "language": "python",
   "name": "python3"
  },
  "language_info": {
   "codemirror_mode": {
    "name": "ipython",
    "version": 3
   },
   "file_extension": ".py",
   "mimetype": "text/x-python",
   "name": "python",
   "nbconvert_exporter": "python",
   "pygments_lexer": "ipython3",
   "version": "3.11.5"
  }
 },
 "nbformat": 4,
 "nbformat_minor": 5
}
